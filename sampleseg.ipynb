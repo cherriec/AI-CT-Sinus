{
 "cells": [
  {
   "cell_type": "code",
   "execution_count": null,
   "id": "678fc6b5",
   "metadata": {},
   "outputs": [],
   "source": [
    "import glob\n",
    "import enum\n",
    "import time\n",
    "import random\n",
    "import multiprocessing\n",
    "from pathlib import Path\n",
    "\n",
    "import torch\n",
    "import torchvision\n",
    "import torchio as tio\n",
    "import torch.nn.functional as F\n",
    "\n",
    "import numpy as np\n",
    "from unet import UNet\n",
    "from scipy import stats\n",
    "from sklearn.model_selection import KFold, train_test_split\n",
    "from torch.utils.data import DataLoader, SubsetRandomSampler\n",
    "import matplotlib.pyplot as plt\n",
    "\n",
    "from IPython import display\n",
    "from tqdm.auto import tqdm\n",
    "\n",
    "device = torch.device('cuda') if torch.cuda.is_available() else 'cpu'\n",
    "num_workers = 0\n",
    "batch_size = 1\n",
    "k = 5                # num k-folds\n",
    "seed = 88\n",
    "random.seed(seed)\n",
    "torch.manual_seed(seed)"
   ]
  },
  {
   "cell_type": "code",
   "execution_count": null,
   "id": "92f64a34",
   "metadata": {},
   "outputs": [],
   "source": [
    "print(torch.cuda.is_available())"
   ]
  },
  {
   "cell_type": "markdown",
   "id": "c3dc1bf4",
   "metadata": {},
   "source": [
    "Load files"
   ]
  },
  {
   "cell_type": "code",
   "execution_count": 3,
   "id": "6e842b97",
   "metadata": {
    "scrolled": true
   },
   "outputs": [
    {
     "name": "stdout",
     "output_type": "stream",
     "text": [
      "Dataset size: 75 subjects\n"
     ]
    }
   ],
   "source": [
    "file_dir = \"./dataset\"\n",
    "raw_dir = r'{0}/raw/*.nii'.format(file_dir)\n",
    "label_dir = r'{0}/label/*.nii'.format(file_dir)\n",
    "\n",
    "image_paths = sorted(glob.glob(raw_dir))\n",
    "label_paths = sorted(glob.glob(label_dir))\n",
    "assert len(image_paths) == len(label_paths)\n",
    "\n",
    "subjects = []\n",
    "# subjects_full = []\n",
    "# i = 0\n",
    "for (image_path, label_path) in zip(image_paths, label_paths):\n",
    "    subject = tio.Subject(\n",
    "        img = tio.ScalarImage(image_path),\n",
    "        label = tio.LabelMap(label_path),\n",
    "    )\n",
    "    subjects.append(subject)\n",
    "#     if i in [5,10,20,30,40,50,60,70]:\n",
    "#         subjects.append(subject)\n",
    "#     i+=1\n",
    "dataset = tio.SubjectsDataset(subjects)\n",
    "# dataset_full = tio.SubjectsDataset(subjects_full)\n",
    "\n",
    "print('Dataset size:', len(dataset), 'subjects')\n",
    "# print('Dataset full size:', len(dataset_full), 'subjects')"
   ]
  },
  {
   "cell_type": "code",
   "execution_count": null,
   "id": "2b8100a2",
   "metadata": {
    "scrolled": false
   },
   "outputs": [],
   "source": [
    "# for i, subject in enumerate(dataset):\n",
    "#     print(subject.img)\n",
    "#     print(subject.label)\n",
    "#     print(\"\\n{0}\".format(i))\n",
    "#     print(subject.img.shape)\n",
    "#     print(subject.label.shape)\n",
    "\n",
    "#     affine = subject['label'][tio.AFFINE]\n",
    "#     temp = tio.Subject(\n",
    "#         ct=tio.ScalarImage(tensor=subject['img'][tio.DATA], affine=affine),\n",
    "#         truth=tio.LabelMap(tensor=subject['label'][tio.DATA], affine=affine)\n",
    "#     )\n",
    "\n",
    "#     temp.plot(figsize=(9, 8))\n"
   ]
  },
  {
   "cell_type": "markdown",
   "id": "76e02dd9",
   "metadata": {},
   "source": [
    "Preprocessing\n",
    "* Orient all images to canonical (RAS+) orientation\n",
    "* Resize images to size (256,256,128)\n",
    "* Perform histogram standardization of intensity values\n",
    "* Perform Z-normalization\n",
    "* Encode labels as '0' or '1'\n",
    "\n",
    "Data augmentation (applied at random during training only)\n",
    "* Flip along lateral axis\n",
    "* Zoom out by 0 to 25%\n",
    "* Rotate by -10° to +10°\n",
    "* Translate along each axis by -10 to +10mm\n",
    "* Downsample images by a factor of 1.5 to 5\n",
    "* Add Gaussian noise"
   ]
  },
  {
   "cell_type": "code",
   "execution_count": null,
   "id": "000de0ef",
   "metadata": {},
   "outputs": [],
   "source": [
    "# train histogram\n",
    "landmarks = tio.HistogramStandardization.train(\n",
    "    image_paths,\n",
    "    output_path=\"landmarks.npy\",\n",
    ")"
   ]
  },
  {
   "cell_type": "code",
   "execution_count": 5,
   "id": "3c1b3869",
   "metadata": {},
   "outputs": [],
   "source": [
    "# standardise labels to '0' or '1'\n",
    "def binarize(x):\n",
    "    return x > 0\n",
    "\n",
    "train_transforms = tio.Compose([\n",
    "    tio.ToCanonical(),\n",
    "#     tio.Resample(2),\n",
    "    tio.CropOrPad((256,256,128), mask_name='label'),\n",
    "    tio.HistogramStandardization({'img': landmarks}),\n",
    "    tio.ZNormalization(masking_method=tio.ZNormalization.mean),\n",
    "    tio.OneOf({\n",
    "        tio.RandomAnisotropy(): 0.5,\n",
    "        tio.OneOf({\n",
    "            tio.RandomAffine(\n",
    "                scales = (0.1),\n",
    "                degrees = (10),\n",
    "                translation = (10)\n",
    "            ): 0.2,\n",
    "            tio.RandomFlip(\n",
    "                axes=('LR',)\n",
    "            ): 0.4,\n",
    "            tio.RandomNoise(): 0.4,\n",
    "        }): 0.3,\n",
    "    }),\n",
    "    tio.Lambda(binarize, types_to_apply=[tio.LABEL]),\n",
    "    tio.OneHot(),\n",
    "])\n",
    "\n",
    "test_transforms = tio.Compose([\n",
    "    tio.ToCanonical(),\n",
    "    tio.CropOrPad((256,256,128), mask_name='label'),\n",
    "    tio.HistogramStandardization({'img': landmarks}),\n",
    "    tio.ZNormalization(masking_method=tio.ZNormalization.mean),\n",
    "    tio.Lambda(binarize, types_to_apply=[tio.LABEL]),\n",
    "    tio.OneHot(),\n",
    "])"
   ]
  },
  {
   "cell_type": "markdown",
   "id": "dc27adc9",
   "metadata": {},
   "source": [
    "Split train/test set\n"
   ]
  },
  {
   "cell_type": "code",
   "execution_count": 6,
   "id": "338428e3",
   "metadata": {},
   "outputs": [
    {
     "name": "stdout",
     "output_type": "stream",
     "text": [
      "Training set: 49 images\n",
      "Validation set: 11 images\n",
      "Test set: 15 images\n"
     ]
    }
   ],
   "source": [
    "val_ratio = 0.15\n",
    "test_ratio = 0.2\n",
    "num_subjects = len(dataset)\n",
    "num_val_subjects = int(val_ratio * num_subjects)\n",
    "num_test_subjects = int(test_ratio * num_subjects)\n",
    "num_training_subjects = num_subjects - num_val_subjects - num_test_subjects\n",
    "\n",
    "training_subjects, validation_subjects, test_subjects = torch.utils.data.random_split(\n",
    "    subjects, [num_training_subjects, num_val_subjects, num_test_subjects], generator=torch.Generator().manual_seed(seed))\n",
    "\n",
    "training_set = tio.SubjectsDataset(\n",
    "    training_subjects, transform=train_transforms)\n",
    "validation_set = tio.SubjectsDataset(\n",
    "    validation_subjects, transform=test_transforms)\n",
    "test_set = tio.SubjectsDataset(\n",
    "    test_subjects, transform=test_transforms)\n",
    "\n",
    "print('Training set:', len(training_set), 'images')\n",
    "print('Validation set:', len(validation_set), 'images')\n",
    "print('Test set:', len(test_set), 'images')\n",
    "\n",
    "# splits = KFold(n_splits = k, shuffle = True, random_state = seed)"
   ]
  },
  {
   "cell_type": "markdown",
   "id": "0eeca25f",
   "metadata": {},
   "source": [
    "<!-- Split k-folds -->"
   ]
  },
  {
   "cell_type": "markdown",
   "id": "e4a31c0f",
   "metadata": {},
   "source": [
    "Build model"
   ]
  },
  {
   "cell_type": "code",
   "execution_count": 30,
   "id": "81826d33",
   "metadata": {},
   "outputs": [],
   "source": [
    "CHANNELS_DIMENSION = 1\n",
    "SPATIAL_DIMENSIONS = 2, 3, 4\n",
    "num_epochs = 50\n",
    "threshold = 0.5      # threshold for binary mask\n",
    "\n",
    "class Action(enum.Enum):\n",
    "    TRAIN = 'Training'\n",
    "    VALIDATE = 'Validation'\n",
    "    TEST = 'Test'\n",
    "\n",
    "class EarlyStopping():\n",
    "    def __init__(self, patience = 10):\n",
    "        self.patience = patience\n",
    "        self.patience_count = self.patience\n",
    "        self.best_loss = float('inf')\n",
    "        self.best_epoch = -1\n",
    "        self.best_model = None\n",
    "        self.is_stopped = False\n",
    "\n",
    "    def monitor(self, curr_loss, epoch, model):\n",
    "        if curr_loss < self.best_loss:\n",
    "            print(\"Model loss improved from {0:.5f} to {1:.5f}\".format(self.best_loss, curr_loss))\n",
    "            self.save_best(curr_loss, epoch, model)\n",
    "        else:\n",
    "            self.patience_count -= 1\n",
    "            if self.patience_count <= 0:\n",
    "                self.is_stopped = True\n",
    "                print(\"Model did not improve for {0} epochs. Best performance was achieved at epoch {1} with loss: {2:.5f}\\nStopping training early\".format(self.patience, self.best_epoch, self.best_loss))\n",
    "            else:\n",
    "                print(\"Model loss did not improve. Count remaining: {0}\".format(self.patience_count))\n",
    "\n",
    "        return self.is_stopped\n",
    "\n",
    "    def save_best(self, curr_loss, epoch, model):\n",
    "        self.best_loss = curr_loss\n",
    "        self.best_epoch = epoch\n",
    "        self.best_model = model\n",
    "        self.patience_count = self.patience\n",
    "\n",
    "    def get_best(self):\n",
    "        return self.best_epoch, self.best_model\n",
    "    \n",
    "def prepare_batch(batch, device):\n",
    "    inputs = batch['img'][tio.DATA].to(device)\n",
    "    targets = batch['label'][tio.DATA].to(device)\n",
    "    return inputs, targets\n",
    "\n",
    "def get_dice_score(output, target, epsilon=1e-9):\n",
    "    p0 = output\n",
    "    g0 = target\n",
    "    p1 = 1 - p0\n",
    "    g1 = 1 - g0\n",
    "    tp = (p0 * g0).sum(dim=SPATIAL_DIMENSIONS)\n",
    "    fp = (p0 * g1).sum(dim=SPATIAL_DIMENSIONS)\n",
    "    fn = (p1 * g0).sum(dim=SPATIAL_DIMENSIONS)\n",
    "    num = 2 * tp\n",
    "    denom = 2 * tp + fp + fn + epsilon\n",
    "    dice_score = num / denom\n",
    "    return dice_score\n",
    "\n",
    "def get_dice_loss(output, target):\n",
    "    return 1 - get_dice_score(output, target)\n",
    "\n",
    "def get_model_and_optimizer(device):\n",
    "    model = UNet(\n",
    "        in_channels=1,\n",
    "        out_classes=2,\n",
    "        dimensions=3,\n",
    "        num_encoding_blocks=3,\n",
    "        out_channels_first_layer=8,\n",
    "        normalization='batch',\n",
    "        upsampling_type='linear',\n",
    "        padding=True,\n",
    "        activation='PReLU',\n",
    "#         activation='ReLU',\n",
    "    ).to(device)\n",
    "    optimizer = torch.optim.AdamW(model.parameters(), lr=1e-3)\n",
    "    return model, optimizer\n",
    "\n",
    "def run_epoch(epoch_idx, action, loader, model, optimizer):\n",
    "    is_training = action == Action.TRAIN\n",
    "    epoch_losses = []\n",
    "    epoch_accuracies = []\n",
    "    times = []\n",
    "    model.train(is_training)\n",
    "    for batch_idx, batch in enumerate(tqdm(loader)):\n",
    "        inputs, targets = prepare_batch(batch, device)\n",
    "        optimizer.zero_grad()\n",
    "        \n",
    "        with torch.set_grad_enabled(is_training):\n",
    "            logits = model(inputs)\n",
    "            probabilities = torch.sigmoid(logits)\n",
    "#             probabilities = torch.floor(torch.sigmoid(logits) + threshold)\n",
    "#             probabilities = F.softmax(logits, dim=CHANNELS_DIMENSION)\n",
    "            batch_losses = get_dice_loss(probabilities, targets)\n",
    "            batch_loss = batch_losses.mean()\n",
    "            if is_training:\n",
    "                batch_loss.backward()\n",
    "                optimizer.step()\n",
    "            times.append(time.time())\n",
    "            epoch_losses.append(batch_loss.item())\n",
    "            \n",
    "        batch_accuracy = get_dice_score((probabilities > threshold).float(), targets).mean()\n",
    "        epoch_accuracies.append(batch_accuracy.item())\n",
    "            \n",
    "    epoch_losses = np.array(epoch_losses)\n",
    "    epoch_loss = epoch_losses.mean()\n",
    "    print(f'{action.value} mean loss: {epoch_loss:0.5f}')\n",
    "    epoch_accuracy = np.array(epoch_accuracies).mean()\n",
    "    print(f'{action.value} mean accuracy: {epoch_accuracy:0.5f}')\n",
    "    return epoch_loss, epoch_accuracy\n",
    "\n",
    "def train(num_epochs, training_loader, validation_loader, model, optimizer, earlystopper, weights_stem):\n",
    "    train_losses = []\n",
    "    val_losses = []\n",
    "    train_accuracies = []\n",
    "    val_accuracies = []\n",
    "#     val_losses.append(run_epoch(0, Action.VALIDATE, validation_loader, model, optimizer))\n",
    "    for epoch_idx in range(1, num_epochs + 1):\n",
    "        print(\"\\n=== Starting epoch {0} ===\".format(epoch_idx))\n",
    "#         train_losses.append(run_epoch(epoch_idx, Action.TRAIN, training_loader, model, optimizer))\n",
    "#         val_losses.append(run_epoch(epoch_idx, Action.VALIDATE, validation_loader, model, optimizer))\n",
    "        train_loss, train_accuracy = run_epoch(epoch_idx, Action.TRAIN, training_loader, model, optimizer)\n",
    "        val_loss, val_accuracy = run_epoch(epoch_idx, Action.VALIDATE, validation_loader, model, optimizer)\n",
    "        train_losses.append(train_loss)\n",
    "        train_accuracies.append(train_accuracy)\n",
    "        val_losses.append(val_loss)\n",
    "        val_accuracies.append(val_accuracy)\n",
    "        \n",
    "        # Saves current state of model\n",
    "        torch.save(model.state_dict(), f'{weights_stem}_epoch_{epoch_idx}.pth')\n",
    "        \n",
    "        # Check early stopping\n",
    "        if earlystopper != None:\n",
    "            is_stopped = earlystopper.monitor(val_loss, epoch_idx, model.state_dict())\n",
    "            if is_stopped:\n",
    "                # Save best model\n",
    "                best_epoch, best_model = earlystopper.get_best()\n",
    "                torch.save(best_model, f'{weights_stem}_best.pth')\n",
    "                break\n",
    "    \n",
    "    print(\"Training ended at epoch {0}\".format(epoch_idx))    \n",
    "    return np.array(train_losses), np.array(train_accuracies), np.array(val_losses), np.array(val_accuracies)\n",
    "\n",
    "def test(test_loader, model, optimizer):\n",
    "    loss, accuracy = run_epoch(1, Action.TEST, test_loader, model, optimizer)\n",
    "    return loss, accuracy\n",
    "\n",
    "# training_loader = torch.utils.data.DataLoader(\n",
    "#     training_set,\n",
    "#     batch_size=training_batch_size,\n",
    "#     shuffle=True,\n",
    "#     num_workers=num_workers,\n",
    "# )\n",
    "\n",
    "# validation_loader = torch.utils.data.DataLoader(\n",
    "#     validation_set,\n",
    "#     batch_size=validation_batch_size,\n",
    "#     num_workers=num_workers,\n",
    "# )"
   ]
  },
  {
   "cell_type": "code",
   "execution_count": null,
   "id": "147ad358",
   "metadata": {},
   "outputs": [],
   "source": [
    "# fold_train_loss = []\n",
    "# fold_val_loss = []\n",
    "\n",
    "# for fold, (train_idx,val_idx) in enumerate(splits.split(np.arange(len(training_set)))):\n",
    "#     print(\"\\n===== FOLD {0} ======\".format(fold + 1))\n",
    "       \n",
    "#     model, optimizer = get_model_and_optimizer(device)\n",
    "#     weights_path = 'whole_image_state_dict.pth'\n",
    "#     weights_stem = 'whole_images'\n",
    "    \n",
    "#     # Load in training & validation set for the current fold\n",
    "#     train_sampler = SubsetRandomSampler(train_idx)\n",
    "#     validation_sampler = SubsetRandomSampler(val_idx)   \n",
    "#     train_loader = DataLoader(training_set, batch_size=batch_size, sampler=train_sampler)\n",
    "#     validation_loader = DataLoader(training_set, batch_size=batch_size, sampler=validation_sampler)\n",
    "    \n",
    "#     # Train\n",
    "#     train_losses, val_losses = train(num_epochs, train_loader, validation_loader, model, optimizer, weights_stem)\n",
    "#     fold_train_loss.append(np.mean(train_losses))\n",
    "#     fold_val_loss.append(np.mean(val_losses))\n",
    "    \n",
    "#     print(\"\\n=== Fold {0}\\nTrain loss: {1}\\nVal loss: {2}\".format(fold+1, fold_train_loss[-1], fold_val_loss[-1]))\n",
    "\n",
    "# print(\"\\n===== END TRAINING =====\")"
   ]
  },
  {
   "cell_type": "markdown",
   "id": "0414be9b",
   "metadata": {},
   "source": [
    "Train model"
   ]
  },
  {
   "cell_type": "code",
   "execution_count": 8,
   "id": "db5c08c3",
   "metadata": {},
   "outputs": [
    {
     "name": "stdout",
     "output_type": "stream",
     "text": [
      "\n",
      "=== Starting epoch 1 ===\n"
     ]
    },
    {
     "data": {
      "application/vnd.jupyter.widget-view+json": {
       "model_id": "122865e744e74335b33b7f50f5f231a6",
       "version_major": 2,
       "version_minor": 0
      },
      "text/plain": [
       "  0%|          | 0/49 [00:00<?, ?it/s]"
      ]
     },
     "metadata": {},
     "output_type": "display_data"
    },
    {
     "name": "stderr",
     "output_type": "stream",
     "text": [
      "C:\\Users\\Cherrie\\anaconda3\\envs\\env3\\lib\\site-packages\\unet\\decoding.py:146: UserWarning: __floordiv__ is deprecated, and its behavior will change in a future version of pytorch. It currently rounds toward 0 (like the 'trunc' function NOT 'floor'). This results in incorrect rounding for negative values. To keep the current behavior, use torch.div(a, b, rounding_mode='trunc'), or for actual floor division, use torch.div(a, b, rounding_mode='floor').\n",
      "  half_crop = crop // 2\n",
      "C:\\Users\\Cherrie\\anaconda3\\envs\\env3\\lib\\site-packages\\torchio\\transforms\\preprocessing\\spatial\\crop_or_pad.py:216: RuntimeWarning: All values found in the mask \"label\" are zero. Using volume center instead\n",
      "  warnings.warn(message, RuntimeWarning)\n"
     ]
    },
    {
     "name": "stdout",
     "output_type": "stream",
     "text": [
      "Training mean loss: 0.595\n",
      "Training mean accuracy: 0.502\n"
     ]
    },
    {
     "data": {
      "application/vnd.jupyter.widget-view+json": {
       "model_id": "5fb2f867b6f64be38533f1c4c7037632",
       "version_major": 2,
       "version_minor": 0
      },
      "text/plain": [
       "  0%|          | 0/11 [00:00<?, ?it/s]"
      ]
     },
     "metadata": {},
     "output_type": "display_data"
    },
    {
     "name": "stdout",
     "output_type": "stream",
     "text": [
      "Validation mean loss: 0.531\n",
      "Validation mean accuracy: 0.586\n",
      "Model loss improved from inf to 0.531\n",
      "\n",
      "=== Starting epoch 2 ===\n"
     ]
    },
    {
     "data": {
      "application/vnd.jupyter.widget-view+json": {
       "model_id": "21a3dbcb54304d9db4d0988d02aad80c",
       "version_major": 2,
       "version_minor": 0
      },
      "text/plain": [
       "  0%|          | 0/49 [00:00<?, ?it/s]"
      ]
     },
     "metadata": {},
     "output_type": "display_data"
    },
    {
     "name": "stdout",
     "output_type": "stream",
     "text": [
      "Training mean loss: 0.561\n",
      "Training mean accuracy: 0.521\n"
     ]
    },
    {
     "data": {
      "application/vnd.jupyter.widget-view+json": {
       "model_id": "8522e2d9a9604f368d218bdc3a766d62",
       "version_major": 2,
       "version_minor": 0
      },
      "text/plain": [
       "  0%|          | 0/11 [00:00<?, ?it/s]"
      ]
     },
     "metadata": {},
     "output_type": "display_data"
    },
    {
     "name": "stdout",
     "output_type": "stream",
     "text": [
      "Validation mean loss: 0.499\n",
      "Validation mean accuracy: 0.597\n",
      "Model loss improved from 0.531 to 0.499\n",
      "\n",
      "=== Starting epoch 3 ===\n"
     ]
    },
    {
     "data": {
      "application/vnd.jupyter.widget-view+json": {
       "model_id": "fc93b40539d047f4b768cf8ac1462ef1",
       "version_major": 2,
       "version_minor": 0
      },
      "text/plain": [
       "  0%|          | 0/49 [00:00<?, ?it/s]"
      ]
     },
     "metadata": {},
     "output_type": "display_data"
    },
    {
     "name": "stdout",
     "output_type": "stream",
     "text": [
      "Training mean loss: 0.535\n",
      "Training mean accuracy: 0.526\n"
     ]
    },
    {
     "data": {
      "application/vnd.jupyter.widget-view+json": {
       "model_id": "60aab10b6fc049c28d220b0468b4feae",
       "version_major": 2,
       "version_minor": 0
      },
      "text/plain": [
       "  0%|          | 0/11 [00:00<?, ?it/s]"
      ]
     },
     "metadata": {},
     "output_type": "display_data"
    },
    {
     "name": "stdout",
     "output_type": "stream",
     "text": [
      "Validation mean loss: 0.486\n",
      "Validation mean accuracy: 0.595\n",
      "Model loss improved from 0.499 to 0.486\n",
      "\n",
      "=== Starting epoch 4 ===\n"
     ]
    },
    {
     "data": {
      "application/vnd.jupyter.widget-view+json": {
       "model_id": "285fe0f1da6742c38c42d3a27a9c9758",
       "version_major": 2,
       "version_minor": 0
      },
      "text/plain": [
       "  0%|          | 0/49 [00:00<?, ?it/s]"
      ]
     },
     "metadata": {},
     "output_type": "display_data"
    },
    {
     "name": "stdout",
     "output_type": "stream",
     "text": [
      "Training mean loss: 0.517\n",
      "Training mean accuracy: 0.525\n"
     ]
    },
    {
     "data": {
      "application/vnd.jupyter.widget-view+json": {
       "model_id": "32bba79719dd47308f87d931b4ec6965",
       "version_major": 2,
       "version_minor": 0
      },
      "text/plain": [
       "  0%|          | 0/11 [00:00<?, ?it/s]"
      ]
     },
     "metadata": {},
     "output_type": "display_data"
    },
    {
     "name": "stdout",
     "output_type": "stream",
     "text": [
      "Validation mean loss: 0.470\n",
      "Validation mean accuracy: 0.595\n",
      "Model loss improved from 0.486 to 0.470\n",
      "\n",
      "=== Starting epoch 5 ===\n"
     ]
    },
    {
     "data": {
      "application/vnd.jupyter.widget-view+json": {
       "model_id": "126b8c9c1fc844fbb84c6ca2c7623fbb",
       "version_major": 2,
       "version_minor": 0
      },
      "text/plain": [
       "  0%|          | 0/49 [00:00<?, ?it/s]"
      ]
     },
     "metadata": {},
     "output_type": "display_data"
    },
    {
     "name": "stdout",
     "output_type": "stream",
     "text": [
      "Training mean loss: 0.503\n",
      "Training mean accuracy: 0.527\n"
     ]
    },
    {
     "data": {
      "application/vnd.jupyter.widget-view+json": {
       "model_id": "0c247ec0d1414a4c800e51eb2fd491e6",
       "version_major": 2,
       "version_minor": 0
      },
      "text/plain": [
       "  0%|          | 0/11 [00:00<?, ?it/s]"
      ]
     },
     "metadata": {},
     "output_type": "display_data"
    },
    {
     "name": "stdout",
     "output_type": "stream",
     "text": [
      "Validation mean loss: 0.454\n",
      "Validation mean accuracy: 0.596\n",
      "Model loss improved from 0.470 to 0.454\n",
      "\n",
      "=== Starting epoch 6 ===\n"
     ]
    },
    {
     "data": {
      "application/vnd.jupyter.widget-view+json": {
       "model_id": "06c743ca4afb4f5ea63b4511083a92bd",
       "version_major": 2,
       "version_minor": 0
      },
      "text/plain": [
       "  0%|          | 0/49 [00:00<?, ?it/s]"
      ]
     },
     "metadata": {},
     "output_type": "display_data"
    },
    {
     "name": "stdout",
     "output_type": "stream",
     "text": [
      "Training mean loss: 0.495\n",
      "Training mean accuracy: 0.527\n"
     ]
    },
    {
     "data": {
      "application/vnd.jupyter.widget-view+json": {
       "model_id": "234c47412a96423dbb5780bfc86a5f96",
       "version_major": 2,
       "version_minor": 0
      },
      "text/plain": [
       "  0%|          | 0/11 [00:00<?, ?it/s]"
      ]
     },
     "metadata": {},
     "output_type": "display_data"
    },
    {
     "name": "stdout",
     "output_type": "stream",
     "text": [
      "Validation mean loss: 0.441\n",
      "Validation mean accuracy: 0.592\n",
      "Model loss improved from 0.454 to 0.441\n",
      "\n",
      "=== Starting epoch 7 ===\n"
     ]
    },
    {
     "data": {
      "application/vnd.jupyter.widget-view+json": {
       "model_id": "c2cc844af33249ac9cf9aa90842d4e30",
       "version_major": 2,
       "version_minor": 0
      },
      "text/plain": [
       "  0%|          | 0/49 [00:00<?, ?it/s]"
      ]
     },
     "metadata": {},
     "output_type": "display_data"
    },
    {
     "name": "stdout",
     "output_type": "stream",
     "text": [
      "Training mean loss: 0.489\n",
      "Training mean accuracy: 0.528\n"
     ]
    },
    {
     "data": {
      "application/vnd.jupyter.widget-view+json": {
       "model_id": "f586dd9cc27b4a20b15688ddf643176e",
       "version_major": 2,
       "version_minor": 0
      },
      "text/plain": [
       "  0%|          | 0/11 [00:00<?, ?it/s]"
      ]
     },
     "metadata": {},
     "output_type": "display_data"
    },
    {
     "name": "stdout",
     "output_type": "stream",
     "text": [
      "Validation mean loss: 0.442\n",
      "Validation mean accuracy: 0.598\n",
      "Model loss did not improve. Count remaining: 9\n",
      "\n",
      "=== Starting epoch 8 ===\n"
     ]
    },
    {
     "data": {
      "application/vnd.jupyter.widget-view+json": {
       "model_id": "355d45e5be01423b8789cddf1ef69d45",
       "version_major": 2,
       "version_minor": 0
      },
      "text/plain": [
       "  0%|          | 0/49 [00:00<?, ?it/s]"
      ]
     },
     "metadata": {},
     "output_type": "display_data"
    },
    {
     "name": "stdout",
     "output_type": "stream",
     "text": [
      "Training mean loss: 0.484\n",
      "Training mean accuracy: 0.530\n"
     ]
    },
    {
     "data": {
      "application/vnd.jupyter.widget-view+json": {
       "model_id": "a7563022c6a94799bb475ed2f4b7d12a",
       "version_major": 2,
       "version_minor": 0
      },
      "text/plain": [
       "  0%|          | 0/11 [00:00<?, ?it/s]"
      ]
     },
     "metadata": {},
     "output_type": "display_data"
    },
    {
     "name": "stdout",
     "output_type": "stream",
     "text": [
      "Validation mean loss: 0.433\n",
      "Validation mean accuracy: 0.591\n",
      "Model loss improved from 0.441 to 0.433\n",
      "\n",
      "=== Starting epoch 9 ===\n"
     ]
    },
    {
     "data": {
      "application/vnd.jupyter.widget-view+json": {
       "model_id": "5ea0337f5779401fa9d9be10f9a0a8df",
       "version_major": 2,
       "version_minor": 0
      },
      "text/plain": [
       "  0%|          | 0/49 [00:00<?, ?it/s]"
      ]
     },
     "metadata": {},
     "output_type": "display_data"
    },
    {
     "name": "stdout",
     "output_type": "stream",
     "text": [
      "Training mean loss: 0.482\n",
      "Training mean accuracy: 0.530\n"
     ]
    },
    {
     "data": {
      "application/vnd.jupyter.widget-view+json": {
       "model_id": "1cd9e8e70ab54343b486775abc210141",
       "version_major": 2,
       "version_minor": 0
      },
      "text/plain": [
       "  0%|          | 0/11 [00:00<?, ?it/s]"
      ]
     },
     "metadata": {},
     "output_type": "display_data"
    },
    {
     "name": "stdout",
     "output_type": "stream",
     "text": [
      "Validation mean loss: 0.443\n",
      "Validation mean accuracy: 0.570\n",
      "Model loss did not improve. Count remaining: 9\n",
      "\n",
      "=== Starting epoch 10 ===\n"
     ]
    },
    {
     "data": {
      "application/vnd.jupyter.widget-view+json": {
       "model_id": "9b0ee923d1c9472aae3e71991011f4c3",
       "version_major": 2,
       "version_minor": 0
      },
      "text/plain": [
       "  0%|          | 0/49 [00:00<?, ?it/s]"
      ]
     },
     "metadata": {},
     "output_type": "display_data"
    },
    {
     "name": "stdout",
     "output_type": "stream",
     "text": [
      "Training mean loss: 0.478\n",
      "Training mean accuracy: 0.591\n"
     ]
    },
    {
     "data": {
      "application/vnd.jupyter.widget-view+json": {
       "model_id": "5dd1ea5c460d453bac688ea109f2fe7a",
       "version_major": 2,
       "version_minor": 0
      },
      "text/plain": [
       "  0%|          | 0/11 [00:00<?, ?it/s]"
      ]
     },
     "metadata": {},
     "output_type": "display_data"
    },
    {
     "name": "stdout",
     "output_type": "stream",
     "text": [
      "Validation mean loss: 0.438\n",
      "Validation mean accuracy: 0.546\n",
      "Model loss did not improve. Count remaining: 8\n",
      "\n",
      "=== Starting epoch 11 ===\n"
     ]
    },
    {
     "data": {
      "application/vnd.jupyter.widget-view+json": {
       "model_id": "6e6906126f224b7cb8835d1a2011fa4c",
       "version_major": 2,
       "version_minor": 0
      },
      "text/plain": [
       "  0%|          | 0/49 [00:00<?, ?it/s]"
      ]
     },
     "metadata": {},
     "output_type": "display_data"
    },
    {
     "name": "stdout",
     "output_type": "stream",
     "text": [
      "Training mean loss: 0.477\n",
      "Training mean accuracy: 0.603\n"
     ]
    },
    {
     "data": {
      "application/vnd.jupyter.widget-view+json": {
       "model_id": "b79e723eb07043819b20fdcde5bdc31c",
       "version_major": 2,
       "version_minor": 0
      },
      "text/plain": [
       "  0%|          | 0/11 [00:00<?, ?it/s]"
      ]
     },
     "metadata": {},
     "output_type": "display_data"
    },
    {
     "name": "stdout",
     "output_type": "stream",
     "text": [
      "Validation mean loss: 0.440\n",
      "Validation mean accuracy: 0.512\n",
      "Model loss did not improve. Count remaining: 7\n",
      "\n",
      "=== Starting epoch 12 ===\n"
     ]
    },
    {
     "data": {
      "application/vnd.jupyter.widget-view+json": {
       "model_id": "98515c491e6c486cbc29f14f346fad2a",
       "version_major": 2,
       "version_minor": 0
      },
      "text/plain": [
       "  0%|          | 0/49 [00:00<?, ?it/s]"
      ]
     },
     "metadata": {},
     "output_type": "display_data"
    },
    {
     "name": "stdout",
     "output_type": "stream",
     "text": [
      "Training mean loss: 0.474\n",
      "Training mean accuracy: 0.632\n"
     ]
    },
    {
     "data": {
      "application/vnd.jupyter.widget-view+json": {
       "model_id": "7bd2fff9b0174a4f98e608f1c3a39538",
       "version_major": 2,
       "version_minor": 0
      },
      "text/plain": [
       "  0%|          | 0/11 [00:00<?, ?it/s]"
      ]
     },
     "metadata": {},
     "output_type": "display_data"
    },
    {
     "name": "stdout",
     "output_type": "stream",
     "text": [
      "Validation mean loss: 0.437\n",
      "Validation mean accuracy: 0.563\n",
      "Model loss did not improve. Count remaining: 6\n",
      "\n",
      "=== Starting epoch 13 ===\n"
     ]
    },
    {
     "data": {
      "application/vnd.jupyter.widget-view+json": {
       "model_id": "028f8c08c7664fc0a42d6b942a05ec6b",
       "version_major": 2,
       "version_minor": 0
      },
      "text/plain": [
       "  0%|          | 0/49 [00:00<?, ?it/s]"
      ]
     },
     "metadata": {},
     "output_type": "display_data"
    },
    {
     "name": "stdout",
     "output_type": "stream",
     "text": [
      "Training mean loss: 0.472\n",
      "Training mean accuracy: 0.648\n"
     ]
    },
    {
     "data": {
      "application/vnd.jupyter.widget-view+json": {
       "model_id": "d7765f2a349d4e82a02e48bf237deb89",
       "version_major": 2,
       "version_minor": 0
      },
      "text/plain": [
       "  0%|          | 0/11 [00:00<?, ?it/s]"
      ]
     },
     "metadata": {},
     "output_type": "display_data"
    },
    {
     "name": "stdout",
     "output_type": "stream",
     "text": [
      "Validation mean loss: 0.437\n",
      "Validation mean accuracy: 0.541\n",
      "Model loss did not improve. Count remaining: 5\n",
      "\n",
      "=== Starting epoch 14 ===\n"
     ]
    },
    {
     "data": {
      "application/vnd.jupyter.widget-view+json": {
       "model_id": "eef155b318c548b2b47d9e99a0dc5d23",
       "version_major": 2,
       "version_minor": 0
      },
      "text/plain": [
       "  0%|          | 0/49 [00:00<?, ?it/s]"
      ]
     },
     "metadata": {},
     "output_type": "display_data"
    },
    {
     "name": "stdout",
     "output_type": "stream",
     "text": [
      "Training mean loss: 0.467\n",
      "Training mean accuracy: 0.656\n"
     ]
    },
    {
     "data": {
      "application/vnd.jupyter.widget-view+json": {
       "model_id": "29c8e40fd9ab4b1bbf87f56485a50c7e",
       "version_major": 2,
       "version_minor": 0
      },
      "text/plain": [
       "  0%|          | 0/11 [00:00<?, ?it/s]"
      ]
     },
     "metadata": {},
     "output_type": "display_data"
    },
    {
     "name": "stdout",
     "output_type": "stream",
     "text": [
      "Validation mean loss: 0.450\n",
      "Validation mean accuracy: 0.714\n",
      "Model loss did not improve. Count remaining: 4\n",
      "\n",
      "=== Starting epoch 15 ===\n"
     ]
    },
    {
     "data": {
      "application/vnd.jupyter.widget-view+json": {
       "model_id": "d6a0410dcc1b46718351132887e73235",
       "version_major": 2,
       "version_minor": 0
      },
      "text/plain": [
       "  0%|          | 0/49 [00:00<?, ?it/s]"
      ]
     },
     "metadata": {},
     "output_type": "display_data"
    },
    {
     "name": "stdout",
     "output_type": "stream",
     "text": [
      "Training mean loss: 0.460\n",
      "Training mean accuracy: 0.703\n"
     ]
    },
    {
     "data": {
      "application/vnd.jupyter.widget-view+json": {
       "model_id": "dbf38bc7ff134432a3fd3e7c4c3e9783",
       "version_major": 2,
       "version_minor": 0
      },
      "text/plain": [
       "  0%|          | 0/11 [00:00<?, ?it/s]"
      ]
     },
     "metadata": {},
     "output_type": "display_data"
    },
    {
     "name": "stdout",
     "output_type": "stream",
     "text": [
      "Validation mean loss: 0.423\n",
      "Validation mean accuracy: 0.631\n",
      "Model loss improved from 0.433 to 0.423\n",
      "\n",
      "=== Starting epoch 16 ===\n"
     ]
    },
    {
     "data": {
      "application/vnd.jupyter.widget-view+json": {
       "model_id": "85dd1c6eb80c492d8e0faa28ad432c19",
       "version_major": 2,
       "version_minor": 0
      },
      "text/plain": [
       "  0%|          | 0/49 [00:00<?, ?it/s]"
      ]
     },
     "metadata": {},
     "output_type": "display_data"
    },
    {
     "name": "stdout",
     "output_type": "stream",
     "text": [
      "Training mean loss: 0.440\n",
      "Training mean accuracy: 0.716\n"
     ]
    },
    {
     "data": {
      "application/vnd.jupyter.widget-view+json": {
       "model_id": "fbfe8b461dd44517909601cbee7ff547",
       "version_major": 2,
       "version_minor": 0
      },
      "text/plain": [
       "  0%|          | 0/11 [00:00<?, ?it/s]"
      ]
     },
     "metadata": {},
     "output_type": "display_data"
    },
    {
     "name": "stdout",
     "output_type": "stream",
     "text": [
      "Validation mean loss: 0.456\n",
      "Validation mean accuracy: 0.635\n",
      "Model loss did not improve. Count remaining: 9\n",
      "\n",
      "=== Starting epoch 17 ===\n"
     ]
    },
    {
     "data": {
      "application/vnd.jupyter.widget-view+json": {
       "model_id": "8470617483e3412fa5c58d69223a3836",
       "version_major": 2,
       "version_minor": 0
      },
      "text/plain": [
       "  0%|          | 0/49 [00:00<?, ?it/s]"
      ]
     },
     "metadata": {},
     "output_type": "display_data"
    },
    {
     "name": "stdout",
     "output_type": "stream",
     "text": [
      "Training mean loss: 0.358\n",
      "Training mean accuracy: 0.810\n"
     ]
    },
    {
     "data": {
      "application/vnd.jupyter.widget-view+json": {
       "model_id": "7b1f5a2e90a9422ab4d74a0255612e14",
       "version_major": 2,
       "version_minor": 0
      },
      "text/plain": [
       "  0%|          | 0/11 [00:00<?, ?it/s]"
      ]
     },
     "metadata": {},
     "output_type": "display_data"
    },
    {
     "name": "stdout",
     "output_type": "stream",
     "text": [
      "Validation mean loss: 0.358\n",
      "Validation mean accuracy: 0.701\n",
      "Model loss improved from 0.423 to 0.358\n",
      "\n",
      "=== Starting epoch 18 ===\n"
     ]
    },
    {
     "data": {
      "application/vnd.jupyter.widget-view+json": {
       "model_id": "91f4cfe2475f4d78abd856524be04b8e",
       "version_major": 2,
       "version_minor": 0
      },
      "text/plain": [
       "  0%|          | 0/49 [00:00<?, ?it/s]"
      ]
     },
     "metadata": {},
     "output_type": "display_data"
    },
    {
     "name": "stdout",
     "output_type": "stream",
     "text": [
      "Training mean loss: 0.215\n",
      "Training mean accuracy: 0.850\n"
     ]
    },
    {
     "data": {
      "application/vnd.jupyter.widget-view+json": {
       "model_id": "5c2d305e8a414b3ba4e338dc420cdaa7",
       "version_major": 2,
       "version_minor": 0
      },
      "text/plain": [
       "  0%|          | 0/11 [00:00<?, ?it/s]"
      ]
     },
     "metadata": {},
     "output_type": "display_data"
    },
    {
     "name": "stdout",
     "output_type": "stream",
     "text": [
      "Validation mean loss: 0.240\n",
      "Validation mean accuracy: 0.789\n",
      "Model loss improved from 0.358 to 0.240\n",
      "\n",
      "=== Starting epoch 19 ===\n"
     ]
    },
    {
     "data": {
      "application/vnd.jupyter.widget-view+json": {
       "model_id": "2cb8223fe3dc4dc6aba754024c1fab1d",
       "version_major": 2,
       "version_minor": 0
      },
      "text/plain": [
       "  0%|          | 0/49 [00:00<?, ?it/s]"
      ]
     },
     "metadata": {},
     "output_type": "display_data"
    },
    {
     "name": "stdout",
     "output_type": "stream",
     "text": [
      "Training mean loss: 0.159\n",
      "Training mean accuracy: 0.865\n"
     ]
    },
    {
     "data": {
      "application/vnd.jupyter.widget-view+json": {
       "model_id": "590cfbd593a745e5a3497e6fb714d3fa",
       "version_major": 2,
       "version_minor": 0
      },
      "text/plain": [
       "  0%|          | 0/11 [00:00<?, ?it/s]"
      ]
     },
     "metadata": {},
     "output_type": "display_data"
    },
    {
     "name": "stdout",
     "output_type": "stream",
     "text": [
      "Validation mean loss: 0.224\n",
      "Validation mean accuracy: 0.787\n",
      "Model loss improved from 0.240 to 0.224\n",
      "\n",
      "=== Starting epoch 20 ===\n"
     ]
    },
    {
     "data": {
      "application/vnd.jupyter.widget-view+json": {
       "model_id": "dc02153c097a44ee8311e81e427ad5ea",
       "version_major": 2,
       "version_minor": 0
      },
      "text/plain": [
       "  0%|          | 0/49 [00:00<?, ?it/s]"
      ]
     },
     "metadata": {},
     "output_type": "display_data"
    },
    {
     "name": "stdout",
     "output_type": "stream",
     "text": [
      "Training mean loss: 0.135\n",
      "Training mean accuracy: 0.877\n"
     ]
    },
    {
     "data": {
      "application/vnd.jupyter.widget-view+json": {
       "model_id": "7d17ac35637e4e0b810c891ac1407610",
       "version_major": 2,
       "version_minor": 0
      },
      "text/plain": [
       "  0%|          | 0/11 [00:00<?, ?it/s]"
      ]
     },
     "metadata": {},
     "output_type": "display_data"
    },
    {
     "name": "stdout",
     "output_type": "stream",
     "text": [
      "Validation mean loss: 0.220\n",
      "Validation mean accuracy: 0.789\n",
      "Model loss improved from 0.224 to 0.220\n",
      "\n",
      "=== Starting epoch 21 ===\n"
     ]
    },
    {
     "data": {
      "application/vnd.jupyter.widget-view+json": {
       "model_id": "3fa9e3ac1d1f463a996c62e20cf74a5c",
       "version_major": 2,
       "version_minor": 0
      },
      "text/plain": [
       "  0%|          | 0/49 [00:00<?, ?it/s]"
      ]
     },
     "metadata": {},
     "output_type": "display_data"
    },
    {
     "name": "stdout",
     "output_type": "stream",
     "text": [
      "Training mean loss: 0.126\n",
      "Training mean accuracy: 0.883\n"
     ]
    },
    {
     "data": {
      "application/vnd.jupyter.widget-view+json": {
       "model_id": "3f4fff42c4a44b7aae818604ec43be37",
       "version_major": 2,
       "version_minor": 0
      },
      "text/plain": [
       "  0%|          | 0/11 [00:00<?, ?it/s]"
      ]
     },
     "metadata": {},
     "output_type": "display_data"
    },
    {
     "name": "stdout",
     "output_type": "stream",
     "text": [
      "Validation mean loss: 0.218\n",
      "Validation mean accuracy: 0.789\n",
      "Model loss improved from 0.220 to 0.218\n",
      "\n",
      "=== Starting epoch 22 ===\n"
     ]
    },
    {
     "data": {
      "application/vnd.jupyter.widget-view+json": {
       "model_id": "8dcea22b69a44c1996090128f63d2450",
       "version_major": 2,
       "version_minor": 0
      },
      "text/plain": [
       "  0%|          | 0/49 [00:00<?, ?it/s]"
      ]
     },
     "metadata": {},
     "output_type": "display_data"
    },
    {
     "name": "stdout",
     "output_type": "stream",
     "text": [
      "Training mean loss: 0.127\n",
      "Training mean accuracy: 0.881\n"
     ]
    },
    {
     "data": {
      "application/vnd.jupyter.widget-view+json": {
       "model_id": "f21f1cc29ad84c739b33ad11a96e13d3",
       "version_major": 2,
       "version_minor": 0
      },
      "text/plain": [
       "  0%|          | 0/11 [00:00<?, ?it/s]"
      ]
     },
     "metadata": {},
     "output_type": "display_data"
    },
    {
     "name": "stdout",
     "output_type": "stream",
     "text": [
      "Validation mean loss: 0.219\n",
      "Validation mean accuracy: 0.787\n",
      "Model loss did not improve. Count remaining: 9\n",
      "\n",
      "=== Starting epoch 23 ===\n"
     ]
    },
    {
     "data": {
      "application/vnd.jupyter.widget-view+json": {
       "model_id": "3ca7ac66c4e14e8593c7e465ceb2fcd8",
       "version_major": 2,
       "version_minor": 0
      },
      "text/plain": [
       "  0%|          | 0/49 [00:00<?, ?it/s]"
      ]
     },
     "metadata": {},
     "output_type": "display_data"
    },
    {
     "name": "stdout",
     "output_type": "stream",
     "text": [
      "Training mean loss: 0.129\n",
      "Training mean accuracy: 0.879\n"
     ]
    },
    {
     "data": {
      "application/vnd.jupyter.widget-view+json": {
       "model_id": "1e84e6f063e54ab4ba95a3daf5726071",
       "version_major": 2,
       "version_minor": 0
      },
      "text/plain": [
       "  0%|          | 0/11 [00:00<?, ?it/s]"
      ]
     },
     "metadata": {},
     "output_type": "display_data"
    },
    {
     "name": "stdout",
     "output_type": "stream",
     "text": [
      "Validation mean loss: 0.205\n",
      "Validation mean accuracy: 0.802\n",
      "Model loss improved from 0.218 to 0.205\n",
      "\n",
      "=== Starting epoch 24 ===\n"
     ]
    },
    {
     "data": {
      "application/vnd.jupyter.widget-view+json": {
       "model_id": "08a176fe8a43476fb5211cf5e2fb690d",
       "version_major": 2,
       "version_minor": 0
      },
      "text/plain": [
       "  0%|          | 0/49 [00:00<?, ?it/s]"
      ]
     },
     "metadata": {},
     "output_type": "display_data"
    },
    {
     "name": "stdout",
     "output_type": "stream",
     "text": [
      "Training mean loss: 0.112\n",
      "Training mean accuracy: 0.894\n"
     ]
    },
    {
     "data": {
      "application/vnd.jupyter.widget-view+json": {
       "model_id": "b2f10c1b79ca4351aab45e875041ce3d",
       "version_major": 2,
       "version_minor": 0
      },
      "text/plain": [
       "  0%|          | 0/11 [00:00<?, ?it/s]"
      ]
     },
     "metadata": {},
     "output_type": "display_data"
    },
    {
     "name": "stdout",
     "output_type": "stream",
     "text": [
      "Validation mean loss: 0.201\n",
      "Validation mean accuracy: 0.804\n",
      "Model loss improved from 0.205 to 0.201\n",
      "\n",
      "=== Starting epoch 25 ===\n"
     ]
    },
    {
     "data": {
      "application/vnd.jupyter.widget-view+json": {
       "model_id": "28ed590dfa4e4392a19470dcd2544558",
       "version_major": 2,
       "version_minor": 0
      },
      "text/plain": [
       "  0%|          | 0/49 [00:00<?, ?it/s]"
      ]
     },
     "metadata": {},
     "output_type": "display_data"
    },
    {
     "name": "stdout",
     "output_type": "stream",
     "text": [
      "Training mean loss: 0.107\n",
      "Training mean accuracy: 0.896\n"
     ]
    },
    {
     "data": {
      "application/vnd.jupyter.widget-view+json": {
       "model_id": "fe1928c895b64cbfa88144a206b33668",
       "version_major": 2,
       "version_minor": 0
      },
      "text/plain": [
       "  0%|          | 0/11 [00:00<?, ?it/s]"
      ]
     },
     "metadata": {},
     "output_type": "display_data"
    },
    {
     "name": "stdout",
     "output_type": "stream",
     "text": [
      "Validation mean loss: 0.203\n",
      "Validation mean accuracy: 0.799\n",
      "Model loss did not improve. Count remaining: 9\n",
      "\n",
      "=== Starting epoch 26 ===\n"
     ]
    },
    {
     "data": {
      "application/vnd.jupyter.widget-view+json": {
       "model_id": "0db4a7261dc04c5cac5c99c04ea3d158",
       "version_major": 2,
       "version_minor": 0
      },
      "text/plain": [
       "  0%|          | 0/49 [00:00<?, ?it/s]"
      ]
     },
     "metadata": {},
     "output_type": "display_data"
    },
    {
     "name": "stdout",
     "output_type": "stream",
     "text": [
      "Training mean loss: 0.115\n",
      "Training mean accuracy: 0.889\n"
     ]
    },
    {
     "data": {
      "application/vnd.jupyter.widget-view+json": {
       "model_id": "e51f5abe87034feeb59c6a2935d0ab73",
       "version_major": 2,
       "version_minor": 0
      },
      "text/plain": [
       "  0%|          | 0/11 [00:00<?, ?it/s]"
      ]
     },
     "metadata": {},
     "output_type": "display_data"
    },
    {
     "name": "stdout",
     "output_type": "stream",
     "text": [
      "Validation mean loss: 0.201\n",
      "Validation mean accuracy: 0.802\n",
      "Model loss improved from 0.201 to 0.201\n",
      "\n",
      "=== Starting epoch 27 ===\n"
     ]
    },
    {
     "data": {
      "application/vnd.jupyter.widget-view+json": {
       "model_id": "570286a021c2404f913855d7a3e1e5c8",
       "version_major": 2,
       "version_minor": 0
      },
      "text/plain": [
       "  0%|          | 0/49 [00:00<?, ?it/s]"
      ]
     },
     "metadata": {},
     "output_type": "display_data"
    },
    {
     "name": "stdout",
     "output_type": "stream",
     "text": [
      "Training mean loss: 0.111\n",
      "Training mean accuracy: 0.893\n"
     ]
    },
    {
     "data": {
      "application/vnd.jupyter.widget-view+json": {
       "model_id": "dd82a8173e2944b8adbc9737d64ec1f4",
       "version_major": 2,
       "version_minor": 0
      },
      "text/plain": [
       "  0%|          | 0/11 [00:00<?, ?it/s]"
      ]
     },
     "metadata": {},
     "output_type": "display_data"
    },
    {
     "name": "stdout",
     "output_type": "stream",
     "text": [
      "Validation mean loss: 0.200\n",
      "Validation mean accuracy: 0.802\n",
      "Model loss improved from 0.201 to 0.200\n",
      "\n",
      "=== Starting epoch 28 ===\n"
     ]
    },
    {
     "data": {
      "application/vnd.jupyter.widget-view+json": {
       "model_id": "481540a0f62041bb8fc84484ccfbd1d0",
       "version_major": 2,
       "version_minor": 0
      },
      "text/plain": [
       "  0%|          | 0/49 [00:00<?, ?it/s]"
      ]
     },
     "metadata": {},
     "output_type": "display_data"
    },
    {
     "name": "stdout",
     "output_type": "stream",
     "text": [
      "Training mean loss: 0.106\n",
      "Training mean accuracy: 0.897\n"
     ]
    },
    {
     "data": {
      "application/vnd.jupyter.widget-view+json": {
       "model_id": "2555d35b477a477ca0104059038eefcc",
       "version_major": 2,
       "version_minor": 0
      },
      "text/plain": [
       "  0%|          | 0/11 [00:00<?, ?it/s]"
      ]
     },
     "metadata": {},
     "output_type": "display_data"
    },
    {
     "name": "stdout",
     "output_type": "stream",
     "text": [
      "Validation mean loss: 0.198\n",
      "Validation mean accuracy: 0.804\n",
      "Model loss improved from 0.200 to 0.198\n",
      "\n",
      "=== Starting epoch 29 ===\n"
     ]
    },
    {
     "data": {
      "application/vnd.jupyter.widget-view+json": {
       "model_id": "fa20cca7f07543db93b771a5428d75ce",
       "version_major": 2,
       "version_minor": 0
      },
      "text/plain": [
       "  0%|          | 0/49 [00:00<?, ?it/s]"
      ]
     },
     "metadata": {},
     "output_type": "display_data"
    },
    {
     "name": "stdout",
     "output_type": "stream",
     "text": [
      "Training mean loss: 0.094\n",
      "Training mean accuracy: 0.908\n"
     ]
    },
    {
     "data": {
      "application/vnd.jupyter.widget-view+json": {
       "model_id": "6ae7bdcf05994ea58e350b2c5933d7ec",
       "version_major": 2,
       "version_minor": 0
      },
      "text/plain": [
       "  0%|          | 0/11 [00:00<?, ?it/s]"
      ]
     },
     "metadata": {},
     "output_type": "display_data"
    },
    {
     "name": "stdout",
     "output_type": "stream",
     "text": [
      "Validation mean loss: 0.195\n",
      "Validation mean accuracy: 0.807\n",
      "Model loss improved from 0.198 to 0.195\n",
      "\n",
      "=== Starting epoch 30 ===\n"
     ]
    },
    {
     "data": {
      "application/vnd.jupyter.widget-view+json": {
       "model_id": "4595a51828f645889371817f2c05433f",
       "version_major": 2,
       "version_minor": 0
      },
      "text/plain": [
       "  0%|          | 0/49 [00:00<?, ?it/s]"
      ]
     },
     "metadata": {},
     "output_type": "display_data"
    },
    {
     "name": "stdout",
     "output_type": "stream",
     "text": [
      "Training mean loss: 0.096\n",
      "Training mean accuracy: 0.906\n"
     ]
    },
    {
     "data": {
      "application/vnd.jupyter.widget-view+json": {
       "model_id": "f549612a9f544e6c8e6e0bb915bcc7c1",
       "version_major": 2,
       "version_minor": 0
      },
      "text/plain": [
       "  0%|          | 0/11 [00:00<?, ?it/s]"
      ]
     },
     "metadata": {},
     "output_type": "display_data"
    },
    {
     "name": "stdout",
     "output_type": "stream",
     "text": [
      "Validation mean loss: 0.194\n",
      "Validation mean accuracy: 0.808\n",
      "Model loss improved from 0.195 to 0.194\n",
      "\n",
      "=== Starting epoch 31 ===\n"
     ]
    },
    {
     "data": {
      "application/vnd.jupyter.widget-view+json": {
       "model_id": "70594ea4edaa43d78a2ba3cbebfc6382",
       "version_major": 2,
       "version_minor": 0
      },
      "text/plain": [
       "  0%|          | 0/49 [00:00<?, ?it/s]"
      ]
     },
     "metadata": {},
     "output_type": "display_data"
    },
    {
     "name": "stdout",
     "output_type": "stream",
     "text": [
      "Training mean loss: 0.094\n",
      "Training mean accuracy: 0.908\n"
     ]
    },
    {
     "data": {
      "application/vnd.jupyter.widget-view+json": {
       "model_id": "1f1ff2e45e1e4200a3302daa1e7600cf",
       "version_major": 2,
       "version_minor": 0
      },
      "text/plain": [
       "  0%|          | 0/11 [00:00<?, ?it/s]"
      ]
     },
     "metadata": {},
     "output_type": "display_data"
    },
    {
     "name": "stdout",
     "output_type": "stream",
     "text": [
      "Validation mean loss: 0.196\n",
      "Validation mean accuracy: 0.805\n",
      "Model loss did not improve. Count remaining: 9\n",
      "\n",
      "=== Starting epoch 32 ===\n"
     ]
    },
    {
     "data": {
      "application/vnd.jupyter.widget-view+json": {
       "model_id": "282507c9804d4e61af68878d9b8f7869",
       "version_major": 2,
       "version_minor": 0
      },
      "text/plain": [
       "  0%|          | 0/49 [00:00<?, ?it/s]"
      ]
     },
     "metadata": {},
     "output_type": "display_data"
    },
    {
     "name": "stdout",
     "output_type": "stream",
     "text": [
      "Training mean loss: 0.091\n",
      "Training mean accuracy: 0.911\n"
     ]
    },
    {
     "data": {
      "application/vnd.jupyter.widget-view+json": {
       "model_id": "b6da9acbd869484481fc85ed32d79c7e",
       "version_major": 2,
       "version_minor": 0
      },
      "text/plain": [
       "  0%|          | 0/11 [00:00<?, ?it/s]"
      ]
     },
     "metadata": {},
     "output_type": "display_data"
    },
    {
     "name": "stdout",
     "output_type": "stream",
     "text": [
      "Validation mean loss: 0.199\n",
      "Validation mean accuracy: 0.801\n",
      "Model loss did not improve. Count remaining: 8\n",
      "\n",
      "=== Starting epoch 33 ===\n"
     ]
    },
    {
     "data": {
      "application/vnd.jupyter.widget-view+json": {
       "model_id": "62ffa1933a1544aaa9e148e7e4b50e32",
       "version_major": 2,
       "version_minor": 0
      },
      "text/plain": [
       "  0%|          | 0/49 [00:00<?, ?it/s]"
      ]
     },
     "metadata": {},
     "output_type": "display_data"
    },
    {
     "name": "stdout",
     "output_type": "stream",
     "text": [
      "Training mean loss: 0.092\n",
      "Training mean accuracy: 0.910\n"
     ]
    },
    {
     "data": {
      "application/vnd.jupyter.widget-view+json": {
       "model_id": "4dd5d1c2df0a478f90606c528a0e4c40",
       "version_major": 2,
       "version_minor": 0
      },
      "text/plain": [
       "  0%|          | 0/11 [00:00<?, ?it/s]"
      ]
     },
     "metadata": {},
     "output_type": "display_data"
    },
    {
     "name": "stdout",
     "output_type": "stream",
     "text": [
      "Validation mean loss: 0.197\n",
      "Validation mean accuracy: 0.804\n",
      "Model loss did not improve. Count remaining: 7\n",
      "\n",
      "=== Starting epoch 34 ===\n"
     ]
    },
    {
     "data": {
      "application/vnd.jupyter.widget-view+json": {
       "model_id": "3e3d2d1e05034b428ca0fa6a2d6c32f2",
       "version_major": 2,
       "version_minor": 0
      },
      "text/plain": [
       "  0%|          | 0/49 [00:00<?, ?it/s]"
      ]
     },
     "metadata": {},
     "output_type": "display_data"
    },
    {
     "name": "stdout",
     "output_type": "stream",
     "text": [
      "Training mean loss: 0.095\n",
      "Training mean accuracy: 0.907\n"
     ]
    },
    {
     "data": {
      "application/vnd.jupyter.widget-view+json": {
       "model_id": "f96ba55e74a242ffb7e74c344bbb518c",
       "version_major": 2,
       "version_minor": 0
      },
      "text/plain": [
       "  0%|          | 0/11 [00:00<?, ?it/s]"
      ]
     },
     "metadata": {},
     "output_type": "display_data"
    },
    {
     "name": "stdout",
     "output_type": "stream",
     "text": [
      "Validation mean loss: 0.194\n",
      "Validation mean accuracy: 0.807\n",
      "Model loss did not improve. Count remaining: 6\n",
      "\n",
      "=== Starting epoch 35 ===\n"
     ]
    },
    {
     "data": {
      "application/vnd.jupyter.widget-view+json": {
       "model_id": "76e809cf6eec4ba0ab539abdc28fa0bf",
       "version_major": 2,
       "version_minor": 0
      },
      "text/plain": [
       "  0%|          | 0/49 [00:00<?, ?it/s]"
      ]
     },
     "metadata": {},
     "output_type": "display_data"
    },
    {
     "name": "stdout",
     "output_type": "stream",
     "text": [
      "Training mean loss: 0.091\n",
      "Training mean accuracy: 0.911\n"
     ]
    },
    {
     "data": {
      "application/vnd.jupyter.widget-view+json": {
       "model_id": "99076969a591422ba30013791194bc48",
       "version_major": 2,
       "version_minor": 0
      },
      "text/plain": [
       "  0%|          | 0/11 [00:00<?, ?it/s]"
      ]
     },
     "metadata": {},
     "output_type": "display_data"
    },
    {
     "name": "stdout",
     "output_type": "stream",
     "text": [
      "Validation mean loss: 0.195\n",
      "Validation mean accuracy: 0.806\n",
      "Model loss did not improve. Count remaining: 5\n",
      "\n",
      "=== Starting epoch 36 ===\n"
     ]
    },
    {
     "data": {
      "application/vnd.jupyter.widget-view+json": {
       "model_id": "3c51159e6a6d43638dc92811195a0e13",
       "version_major": 2,
       "version_minor": 0
      },
      "text/plain": [
       "  0%|          | 0/49 [00:00<?, ?it/s]"
      ]
     },
     "metadata": {},
     "output_type": "display_data"
    },
    {
     "name": "stdout",
     "output_type": "stream",
     "text": [
      "Training mean loss: 0.097\n",
      "Training mean accuracy: 0.905\n"
     ]
    },
    {
     "data": {
      "application/vnd.jupyter.widget-view+json": {
       "model_id": "fde559dfab83410598f872804b30e6e4",
       "version_major": 2,
       "version_minor": 0
      },
      "text/plain": [
       "  0%|          | 0/11 [00:00<?, ?it/s]"
      ]
     },
     "metadata": {},
     "output_type": "display_data"
    },
    {
     "name": "stdout",
     "output_type": "stream",
     "text": [
      "Validation mean loss: 0.199\n",
      "Validation mean accuracy: 0.802\n",
      "Model loss did not improve. Count remaining: 4\n",
      "\n",
      "=== Starting epoch 37 ===\n"
     ]
    },
    {
     "data": {
      "application/vnd.jupyter.widget-view+json": {
       "model_id": "affc17c85011418d8b2cd86c130955d5",
       "version_major": 2,
       "version_minor": 0
      },
      "text/plain": [
       "  0%|          | 0/49 [00:00<?, ?it/s]"
      ]
     },
     "metadata": {},
     "output_type": "display_data"
    },
    {
     "name": "stdout",
     "output_type": "stream",
     "text": [
      "Training mean loss: 0.110\n",
      "Training mean accuracy: 0.892\n"
     ]
    },
    {
     "data": {
      "application/vnd.jupyter.widget-view+json": {
       "model_id": "ae7f28fd8a284ef3b9bd233a5da2415b",
       "version_major": 2,
       "version_minor": 0
      },
      "text/plain": [
       "  0%|          | 0/11 [00:00<?, ?it/s]"
      ]
     },
     "metadata": {},
     "output_type": "display_data"
    },
    {
     "name": "stdout",
     "output_type": "stream",
     "text": [
      "Validation mean loss: 0.412\n",
      "Validation mean accuracy: 0.589\n",
      "Model loss did not improve. Count remaining: 3\n",
      "\n",
      "=== Starting epoch 38 ===\n"
     ]
    },
    {
     "data": {
      "application/vnd.jupyter.widget-view+json": {
       "model_id": "381011ddf1a243c08d5c926188a3cfc7",
       "version_major": 2,
       "version_minor": 0
      },
      "text/plain": [
       "  0%|          | 0/49 [00:00<?, ?it/s]"
      ]
     },
     "metadata": {},
     "output_type": "display_data"
    },
    {
     "name": "stdout",
     "output_type": "stream",
     "text": [
      "Training mean loss: 0.113\n",
      "Training mean accuracy: 0.889\n"
     ]
    },
    {
     "data": {
      "application/vnd.jupyter.widget-view+json": {
       "model_id": "c49d1c8a05a94de7b4d446b55dd4827e",
       "version_major": 2,
       "version_minor": 0
      },
      "text/plain": [
       "  0%|          | 0/11 [00:00<?, ?it/s]"
      ]
     },
     "metadata": {},
     "output_type": "display_data"
    },
    {
     "name": "stdout",
     "output_type": "stream",
     "text": [
      "Validation mean loss: 0.200\n",
      "Validation mean accuracy: 0.801\n",
      "Model loss did not improve. Count remaining: 2\n",
      "\n",
      "=== Starting epoch 39 ===\n"
     ]
    },
    {
     "data": {
      "application/vnd.jupyter.widget-view+json": {
       "model_id": "632178d792264b768495757945f0303f",
       "version_major": 2,
       "version_minor": 0
      },
      "text/plain": [
       "  0%|          | 0/49 [00:00<?, ?it/s]"
      ]
     },
     "metadata": {},
     "output_type": "display_data"
    },
    {
     "name": "stdout",
     "output_type": "stream",
     "text": [
      "Training mean loss: 0.099\n",
      "Training mean accuracy: 0.902\n"
     ]
    },
    {
     "data": {
      "application/vnd.jupyter.widget-view+json": {
       "model_id": "2e0969e53e4c4a9f95979f85a79f230f",
       "version_major": 2,
       "version_minor": 0
      },
      "text/plain": [
       "  0%|          | 0/11 [00:00<?, ?it/s]"
      ]
     },
     "metadata": {},
     "output_type": "display_data"
    },
    {
     "name": "stdout",
     "output_type": "stream",
     "text": [
      "Validation mean loss: 0.195\n",
      "Validation mean accuracy: 0.806\n",
      "Model loss did not improve. Count remaining: 1\n",
      "\n",
      "=== Starting epoch 40 ===\n"
     ]
    },
    {
     "data": {
      "application/vnd.jupyter.widget-view+json": {
       "model_id": "000cea4c5da544c7b13e5f1eb3bd935f",
       "version_major": 2,
       "version_minor": 0
      },
      "text/plain": [
       "  0%|          | 0/49 [00:00<?, ?it/s]"
      ]
     },
     "metadata": {},
     "output_type": "display_data"
    },
    {
     "name": "stdout",
     "output_type": "stream",
     "text": [
      "Training mean loss: 0.094\n",
      "Training mean accuracy: 0.908\n"
     ]
    },
    {
     "data": {
      "application/vnd.jupyter.widget-view+json": {
       "model_id": "2f210d7388ef4f039e76852e0cd93404",
       "version_major": 2,
       "version_minor": 0
      },
      "text/plain": [
       "  0%|          | 0/11 [00:00<?, ?it/s]"
      ]
     },
     "metadata": {},
     "output_type": "display_data"
    },
    {
     "name": "stdout",
     "output_type": "stream",
     "text": [
      "Validation mean loss: 0.195\n",
      "Validation mean accuracy: 0.806\n",
      "Model did not improve for 10 epochs. Best performance was achieved at epoch 30 with loss: 0.194\n",
      "Stopping training early\n",
      "Training ended at epoch 40\n"
     ]
    }
   ],
   "source": [
    "model, optimizer = get_model_and_optimizer(device)\n",
    "weights_path = 'whole_image_state_dict.pth'\n",
    "weights_stem = 'whole_images'\n",
    "train_loader = torch.utils.data.DataLoader(\n",
    "    training_set,\n",
    "    batch_size = batch_size,\n",
    "    shuffle = True,\n",
    "    num_workers = num_workers\n",
    ")\n",
    "validation_loader = torch.utils.data.DataLoader(\n",
    "    validation_set,\n",
    "    batch_size = batch_size,\n",
    "    num_workers = num_workers\n",
    ")\n",
    "earlystopper = EarlyStopping(patience = 10)\n",
    "\n",
    "train_losses, train_accuracies, val_losses, val_accuracies = train(\n",
    "    num_epochs, train_loader, validation_loader, model, optimizer, earlystopper, weights_stem\n",
    ")\n",
    "checkpoint = {\n",
    "    'train_losses': train_losses,\n",
    "    'val_losses': val_losses,\n",
    "    'weights': model.state_dict(),\n",
    "}\n",
    "torch.save(checkpoint, weights_path)"
   ]
  },
  {
   "cell_type": "markdown",
   "id": "4d9aef2f",
   "metadata": {},
   "source": [
    "Plot training & validation losses"
   ]
  },
  {
   "cell_type": "code",
   "execution_count": 9,
   "id": "18a0f152",
   "metadata": {},
   "outputs": [
    {
     "data": {
      "text/plain": [
       "Text(0, 0.5, 'Dice Similarity Coefficient (DSC)')"
      ]
     },
     "execution_count": 9,
     "metadata": {},
     "output_type": "execute_result"
    },
    {
     "data": {
      "image/png": "[encoded data removed]",
      "text/plain": [
       "<Figure size 432x288 with 1 Axes>"
      ]
     },
     "metadata": {
      "needs_background": "light"
     },
     "output_type": "display_data"
    },
    {
     "data": {
      "image/png": "[encoded data removed]",
      "text/plain": [
       "<Figure size 432x288 with 1 Axes>"
      ]
     },
     "metadata": {
      "needs_background": "light"
     },
     "output_type": "display_data"
    }
   ],
   "source": [
    "plt.figure(0)\n",
    "plt.plot(train_losses, label='Training Loss')\n",
    "plt.plot(val_losses, label='Validation Loss')\n",
    "plt.title('Training and Validation Loss')\n",
    "plt.xlabel('Epochs')\n",
    "plt.ylabel('Loss')\n",
    "\n",
    "plt.figure(1)\n",
    "plt.plot(train_accuracies, label='Training DSC')\n",
    "plt.plot(val_accuracies, label='Validation DSC')\n",
    "plt.title('Training and Validation DSC')\n",
    "plt.xlabel('Epochs')\n",
    "plt.ylabel('Dice Similarity Coefficient (DSC)')"
   ]
  },
  {
   "cell_type": "markdown",
   "id": "85547832",
   "metadata": {},
   "source": [
    "Load trained model"
   ]
  },
  {
   "cell_type": "code",
   "execution_count": 11,
   "id": "e61e088c",
   "metadata": {},
   "outputs": [],
   "source": [
    "trained_model = UNet(\n",
    "    in_channels=1,\n",
    "    out_classes=2,\n",
    "    dimensions=3,\n",
    "    num_encoding_blocks=3,\n",
    "    out_channels_first_layer=8,\n",
    "    normalization='batch',\n",
    "    upsampling_type='linear',\n",
    "    padding=True,\n",
    "    activation='PReLU',\n",
    ").to(device)\n",
    "trained_model.load_state_dict(torch.load(\"./whole_images_best.pth\"))\n",
    "trained_model.eval()\n",
    "optimizer = torch.optim.AdamW(trained_model.parameters(), lr=1e-3)"
   ]
  },
  {
   "cell_type": "markdown",
   "id": "178b9de6",
   "metadata": {},
   "source": [
    "Test trained model on test set"
   ]
  },
  {
   "cell_type": "code",
   "execution_count": 31,
   "id": "9e0b90fb",
   "metadata": {},
   "outputs": [
    {
     "data": {
      "application/vnd.jupyter.widget-view+json": {
       "model_id": "b10ac8d47bfa48408b6bc453b6070b2a",
       "version_major": 2,
       "version_minor": 0
      },
      "text/plain": [
       "  0%|          | 0/15 [00:00<?, ?it/s]"
      ]
     },
     "metadata": {},
     "output_type": "display_data"
    },
    {
     "name": "stdout",
     "output_type": "stream",
     "text": [
      "Test mean loss: 0.15125\n",
      "Test mean accuracy: 0.84971\n"
     ]
    }
   ],
   "source": [
    "test_loader = torch.utils.data.DataLoader(\n",
    "    test_set,\n",
    "    batch_size=batch_size,\n",
    "    num_workers=num_workers,\n",
    ")\n",
    "\n",
    "# test_loss = run_epoch(0, Action.VALIDATE, test_loader, model, optimizer)\n",
    "test_loss, test_accuracy = test(test_loader, trained_model, optimizer)"
   ]
  },
  {
   "cell_type": "markdown",
   "id": "2f65e92a",
   "metadata": {},
   "source": [
    "Visualise predictions on test set"
   ]
  },
  {
   "cell_type": "code",
   "execution_count": null,
   "id": "5d69115f",
   "metadata": {
    "scrolled": false
   },
   "outputs": [],
   "source": [
    "test_loader = torch.utils.data.DataLoader(\n",
    "    test_set,\n",
    "    batch_size=batch_size,\n",
    "    num_workers=num_workers,\n",
    ")\n",
    "\n",
    "generator = iter(test_loader)\n",
    "\n",
    "for i in range(len(test_loader)):\n",
    "    print(\"Segmenting image {0}\".format(i+1))\n",
    "    batch = next(generator)\n",
    "    inputs, targets = prepare_batch(batch, device)    \n",
    "    FIRST = 0\n",
    "    FOREGROUND = 1\n",
    "    with torch.no_grad():\n",
    "#         probabilities = trained_model(inputs).softmax(dim=1)[:, FOREGROUND:].cpu()\n",
    "#         probabilities = F.softmax(trained_model(inputs), dim=CHANNELS_DIMENSION)[:, FOREGROUND:].cpu()\n",
    "        probabilities = torch.sigmoid(trained_model(inputs)).cpu()\n",
    "    \n",
    "    affine = batch['label'][tio.AFFINE][0].numpy()\n",
    "    subject = tio.Subject(\n",
    "        ct=tio.ScalarImage(tensor=batch['img'][tio.DATA][0], affine=affine),\n",
    "        truth=tio.LabelMap(tensor=batch['label'][tio.DATA][0], affine=affine),\n",
    "        predicted=tio.ScalarImage(tensor=(probabilities[0]), affine=affine),\n",
    "        predicted_binary= tio.LabelMap(tensor=(probabilities[0]>threshold), affine=affine)\n",
    "    )\n",
    "\n",
    "    score = get_dice_score((probabilities > threshold).float(), batch['label'][tio.DATA]).mean().item()\n",
    "    print(\"Dice score: {0:.5f}\".format(score))\n",
    "    # subject.plot(figsize=(9, 8), cmap_dict={'predicted': 'RdBu_r'})\n",
    "    subject.plot(figsize=(9, 8))\n",
    "\n"
   ]
  },
  {
   "cell_type": "code",
   "execution_count": null,
   "id": "b2c93b82",
   "metadata": {},
   "outputs": [],
   "source": [
    "for i, subject in enumerate(test_set.dry_iter()):\n",
    "    subject['img'].save(\"./testset88/testimg{0}.nii\".format(i+1))\n",
    "    subject['label'].save(\"./testset88/testlabel{0}.nii\".format(i+1))"
   ]
  },
  {
   "cell_type": "code",
   "execution_count": null,
   "id": "ff30e30d",
   "metadata": {},
   "outputs": [],
   "source": []
  }
 ],
 "metadata": {
  "kernelspec": {
   "display_name": "Python 3 (ipykernel)",
   "language": "python",
   "name": "python3"
  },
  "language_info": {
   "codemirror_mode": {
    "name": "ipython",
    "version": 3
   },
   "file_extension": ".py",
   "mimetype": "text/x-python",
   "name": "python",
   "nbconvert_exporter": "python",
   "pygments_lexer": "ipython3",
   "version": "3.10.6"
  }
 },
 "nbformat": 4,
 "nbformat_minor": 5
}
